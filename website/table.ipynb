{
 "cells": [
  {
   "cell_type": "code",
   "execution_count": 1,
   "metadata": {},
   "outputs": [],
   "source": [
    "from openfisca_us import Microsimulation, IndividualSim"
   ]
  },
  {
   "cell_type": "code",
   "execution_count": 2,
   "metadata": {},
   "outputs": [],
   "source": [
    "from openfisca_us.model_api import *\n",
    "from openfisca_us.tools.baseline_variables import baseline_variables\n",
    "\n",
    "REPLACED_PROGRAMS = [\"ctc\", \"eitc\"]\n",
    "\n",
    "CHILD_AMOUNT = 393\n",
    "CHILD_AGE_LIMIT = 18\n",
    "ADULT_DEPENDENT_CREDIT = 600\n",
    "FILER_CREDIT_SINGLE = 600\n",
    "FILER_CREDIT_MARRIED = 1200\n",
    "FILER_CREDIT_SINGLE_PHASE_OUT_START = 20_000\n",
    "FILER_CREDIT_MARRIED_PHASE_OUT_START = 40_000\n",
    "FILER_CREDIT_PHASE_OUT_RATE = 0.05\n",
    "FILER_CREDIT_MIN_AGE = 19\n",
    "FILER_CREDIT_MAX_AGE = 64\n",
    "\n",
    "class ecpa(Variable):\n",
    "    value_type = float\n",
    "    entity = TaxUnit\n",
    "    definition_period = YEAR\n",
    "    label = \"End Child Poverty Act\"\n",
    "\n",
    "    formula = sum_of_variables(['ecpa_child_allowance', 'ecpa_adult_dependent_credit', 'ecpa_filer_credit'])\n",
    "\n",
    "class ecpa_child_allowance(Variable):\n",
    "    value_type = float\n",
    "    entity = TaxUnit\n",
    "    definition_period = YEAR\n",
    "    label = \"End Child Poverty Act Child Allowance\"\n",
    "\n",
    "    def formula(tax_unit, period, parameters):\n",
    "        person = tax_unit.members\n",
    "        # Child allowance.\n",
    "        qualifies_for_child_allowance = person(\"age\", period) <= CHILD_AGE_LIMIT\n",
    "        child_allowance = CHILD_AMOUNT * tax_unit.sum(qualifies_for_child_allowance) * 12\n",
    "        return child_allowance\n",
    "\n",
    "class ecpa_adult_dependent_credit(Variable):\n",
    "    value_type = float\n",
    "    entity = TaxUnit\n",
    "    definition_period = YEAR\n",
    "    label = \"End Child Poverty Act Adult Dependent Credit\"\n",
    "\n",
    "    def formula(tax_unit, period, parameters):\n",
    "        person = tax_unit.members\n",
    "        # Adult dependent credit.\n",
    "        adult_dependent = person(\"is_tax_unit_dependent\", period) & ~(person(\"age\", period) <= CHILD_AGE_LIMIT)\n",
    "        adult_dependent_credit = ADULT_DEPENDENT_CREDIT * tax_unit.sum(adult_dependent)\n",
    "        return adult_dependent_credit\n",
    "\n",
    "class ecpa_filer_credit(Variable):\n",
    "    value_type = float\n",
    "    entity = TaxUnit\n",
    "    definition_period = YEAR\n",
    "    label = \"End Child Poverty Act Filer Credit\"\n",
    "\n",
    "    def formula(tax_unit, period, parameters):\n",
    "        # Filer credit.\n",
    "        # Define eligibility based on age.\n",
    "        age_head = tax_unit(\"age_head\", period)\n",
    "        age_spouse = tax_unit(\"age_spouse\", period)\n",
    "        head_qualifies = (age_head >= FILER_CREDIT_MIN_AGE) & (age_head <= FILER_CREDIT_MAX_AGE)\n",
    "        spouse_qualifies = (age_spouse >= FILER_CREDIT_MIN_AGE) & (age_spouse <= FILER_CREDIT_MAX_AGE)\n",
    "        filer_credit_eligible = head_qualifies | spouse_qualifies\n",
    "        # Get maximum amount.\n",
    "        filing_status = tax_unit(\"filing_status\", period)\n",
    "        is_married = filing_status == filing_status.possible_values.JOINT\n",
    "        max_filer_credit = where(is_married, FILER_CREDIT_MARRIED, FILER_CREDIT_SINGLE)\n",
    "        # Phase out.\n",
    "        agi = tax_unit(\"adjusted_gross_income\", period)\n",
    "        phase_out_start = where(is_married, FILER_CREDIT_MARRIED_PHASE_OUT_START, FILER_CREDIT_SINGLE_PHASE_OUT_START)\n",
    "        excess = max_(agi - phase_out_start, 0)\n",
    "        reduction = excess * FILER_CREDIT_PHASE_OUT_RATE\n",
    "        # Compute final amount.\n",
    "        filer_credit = filer_credit_eligible * max_(max_filer_credit - reduction, 0)\n",
    "        return filer_credit\n",
    "\n",
    "class spm_unit_net_income(Variable):\n",
    "    def formula(spm_unit, period, parameters):\n",
    "        original = baseline_variables[\"spm_unit_net_income\"].formula(spm_unit, period, parameters)\n",
    "        return original + add(spm_unit, period, [\"ecpa\"])\n",
    "\n",
    "class add_ecpa(Reform):\n",
    "    def apply(self):\n",
    "        for program in REPLACED_PROGRAMS:\n",
    "            self.neutralize_variable(program)\n",
    "        self.add_variable(ecpa_child_allowance)\n",
    "        self.add_variable(ecpa_adult_dependent_credit)\n",
    "        self.add_variable(ecpa_filer_credit)\n",
    "        self.add_variable(ecpa)\n",
    "        self.update_variable(spm_unit_net_income)"
   ]
  },
  {
   "cell_type": "code",
   "execution_count": 16,
   "metadata": {},
   "outputs": [],
   "source": [
    "isb = IndividualSim(year=2022)\n",
    "isr = IndividualSim(add_ecpa, year=2022)\n",
    "\n",
    "for sim in [isb, isr]:\n",
    "    members = [\"head\", \"child_1\", \"child_2\", \"dependent\"]\n",
    "    sim.add_person(name=\"head\", age=27, employment_income=30000, is_tax_unit_head=True, is_tax_unit_dependent=False)\n",
    "    sim.add_person(name=\"child_1\", age=10, is_tax_unit_dependent=False)\n",
    "    sim.add_person(name=\"child_2\", age=10, is_tax_unit_dependent=False)\n",
    "    sim.add_person(name=\"dependent\", age=56, is_tax_unit_spouse=False, is_tax_unit_dependent=True)\n",
    "    sim.add_tax_unit(name=\"tax_unit\", members=members, premium_tax_credit=0)\n",
    "    sim.add_spm_unit(name=\"spm_unit\", members=members, snap_emergency_allotment=0)\n",
    "    sim.add_household(name=\"household\", members=members, state_code=\"MA\")\n"
   ]
  },
  {
   "cell_type": "code",
   "execution_count": 18,
   "metadata": {},
   "outputs": [
    {
     "data": {
      "text/plain": [
       "array([9432.], dtype=float32)"
      ]
     },
     "execution_count": 18,
     "metadata": {},
     "output_type": "execute_result"
    }
   ],
   "source": [
    "isr.calc('ecpa_child_allowance')"
   ]
  }
 ],
 "metadata": {
  "kernelspec": {
   "display_name": "Python 3.7.11 ('poliengvenv')",
   "language": "python",
   "name": "python3"
  },
  "language_info": {
   "codemirror_mode": {
    "name": "ipython",
    "version": 3
   },
   "file_extension": ".py",
   "mimetype": "text/x-python",
   "name": "python",
   "nbconvert_exporter": "python",
   "pygments_lexer": "ipython3",
   "version": "3.7.11"
  },
  "orig_nbformat": 4,
  "vscode": {
   "interpreter": {
    "hash": "4cf6383f3e9dd129f990f4193ec215190a2fe34a62260e36ae06145e06376ac7"
   }
  }
 },
 "nbformat": 4,
 "nbformat_minor": 2
}
