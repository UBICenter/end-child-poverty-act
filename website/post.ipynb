{
 "cells": [
  {
   "cell_type": "markdown",
   "metadata": {},
   "source": [
    "# End Child Poverty Act\n",
    "\n",
    "A simulation of the End Child Poverty Act and its possible effects (TODO: make a nice paragraph describing what we're doing here)"
   ]
  },
  {
   "cell_type": "code",
   "execution_count": 3,
   "metadata": {
    "execution": {
     "iopub.execute_input": "2022-06-06T13:05:29.107227Z",
     "iopub.status.busy": "2022-06-06T13:05:29.106230Z",
     "iopub.status.idle": "2022-06-06T13:05:31.476537Z",
     "shell.execute_reply": "2022-06-06T13:05:31.475529Z"
    }
   },
   "outputs": [],
   "source": [
    "from openfisca_us import Microsimulation, IndividualSim"
   ]
  },
  {
   "cell_type": "code",
   "execution_count": 4,
   "metadata": {
    "execution": {
     "iopub.execute_input": "2022-06-06T13:05:31.491519Z",
     "iopub.status.busy": "2022-06-06T13:05:31.490488Z",
     "iopub.status.idle": "2022-06-06T13:05:33.568990Z",
     "shell.execute_reply": "2022-06-06T13:05:33.568990Z"
    }
   },
   "outputs": [],
   "source": [
    "from openfisca_us.model_api import *\n",
    "from openfisca_us.tools.baseline_variables import baseline_variables\n",
    "\n",
    "REPLACED_PROGRAMS = [\"ctc\", \"eitc\"]\n",
    "\n",
    "CHILD_AMOUNT = 393\n",
    "CHILD_AGE_LIMIT = 18\n",
    "ADULT_DEPENDENT_CREDIT = 600\n",
    "FILER_CREDIT_SINGLE = 600\n",
    "FILER_CREDIT_MARRIED = 1200\n",
    "FILER_CREDIT_SINGLE_PHASE_OUT_START = 20_000\n",
    "FILER_CREDIT_MARRIED_PHASE_OUT_START = 40_000\n",
    "FILER_CREDIT_PHASE_OUT_RATE = 0.05\n",
    "FILER_CREDIT_MIN_AGE = 19\n",
    "FILER_CREDIT_MAX_AGE = 64\n",
    "\n",
    "class ecpa(Variable):\n",
    "    value_type = float\n",
    "    entity = TaxUnit\n",
    "    definition_period = YEAR\n",
    "    label = \"End Child Poverty Act\"\n",
    "\n",
    "    def formula(tax_unit, period, parameters):\n",
    "        person = tax_unit.members\n",
    "        # Child allowance.\n",
    "        qualifies_for_child_allowance = person(\"age\", period) <= CHILD_AGE_LIMIT\n",
    "        child_allowance = CHILD_AMOUNT * tax_unit.sum(qualifies_for_child_allowance) * 12\n",
    "        # Adult dependent credit.\n",
    "        adult_dependent = person(\"is_tax_unit_dependent\", period) & ~qualifies_for_child_allowance\n",
    "        adult_dependent_credit = ADULT_DEPENDENT_CREDIT * tax_unit.sum(adult_dependent)\n",
    "        # Filer credit.\n",
    "        # Define eligibility based on age.\n",
    "        age_head = tax_unit(\"age_head\", period)\n",
    "        age_spouse = tax_unit(\"age_spouse\", period)\n",
    "        head_qualifies = (age_head >= FILER_CREDIT_MIN_AGE) & (age_head <= FILER_CREDIT_MAX_AGE)\n",
    "        spouse_qualifies = (age_spouse >= FILER_CREDIT_MIN_AGE) & (age_spouse <= FILER_CREDIT_MAX_AGE)\n",
    "        filer_credit_eligible = head_qualifies | spouse_qualifies\n",
    "        # Get maximum amount.\n",
    "        filing_status = tax_unit(\"filing_status\", period)\n",
    "        is_married = filing_status == filing_status.possible_values.JOINT\n",
    "        max_filer_credit = where(is_married, FILER_CREDIT_MARRIED, FILER_CREDIT_SINGLE)\n",
    "        # Phase out.\n",
    "        agi = tax_unit(\"adjusted_gross_income\", period)\n",
    "        phase_out_start = where(is_married, FILER_CREDIT_MARRIED_PHASE_OUT_START, FILER_CREDIT_SINGLE_PHASE_OUT_START)\n",
    "        excess = max_(agi - phase_out_start, 0)\n",
    "        reduction = excess * FILER_CREDIT_PHASE_OUT_RATE\n",
    "        # Compute final amount.\n",
    "        filer_credit = filer_credit_eligible * max_(max_filer_credit - reduction, 0)\n",
    "        # Return all three components.\n",
    "        return child_allowance + adult_dependent_credit + filer_credit\n",
    "\n",
    "class spm_unit_net_income(Variable):\n",
    "    def formula(spm_unit, period, parameters):\n",
    "        original = baseline_variables[\"spm_unit_net_income\"].formula(spm_unit, period, parameters)\n",
    "        return original + add(spm_unit, period, [\"ecpa\"])\n",
    "\n",
    "\n",
    "class add_ecpa(Reform):\n",
    "    def apply(self):\n",
    "        for program in REPLACED_PROGRAMS:\n",
    "            self.neutralize_variable(program)\n",
    "        self.add_variable(ecpa)\n",
    "        self.update_variable(spm_unit_net_income)"
   ]
  },
  {
   "cell_type": "code",
   "execution_count": 5,
   "metadata": {},
   "outputs": [],
   "source": [
    "def make_tax(adults, children, reform):\n",
    "    if reform is None:\n",
    "        sim = IndividualSim(year=2022)\n",
    "    else:\n",
    "        sim = IndividualSim(reform, year=2022)\n",
    "    \n",
    "    sim.add_person(name=\"head\", age=25)\n",
    "    members = [\"head\"]\n",
    "    if adults == 2:\n",
    "        sim.add_person(name=\"spouse\", age=25)\n",
    "        members += [\"spouse\"]\n",
    "    for i in range(children):\n",
    "        child = \"child{}\".format(i)\n",
    "        sim.add_person(name=child, age=6)\n",
    "        members += [child]\n",
    "    sim.add_tax_unit(name=\"tax_unit\", members=members, premium_tax_credit=0)\n",
    "    sim.add_spm_unit(name=\"spm_unit\", members=members, snap_emergency_allotment=0)\n",
    "    sim.add_household(name=\"household\", members=members, state_code=\"MA\")\n",
    "\n",
    "    sim.vary(\"employment_income\", max=100_000, step=100)\n",
    "\n",
    "    employment_income = sim.calc(\"employment_income\")[0]\n",
    "    spm_unit_net_income = sim.calc(\"spm_unit_net_income\")[0].round()\n",
    "    mtr = 1 - sim.deriv(\n",
    "        \"spm_unit_net_income\", \"employment_income\", wrt_target=\"head\"\n",
    "    )\n",
    "    \n",
    "    return pd.DataFrame(\n",
    "        dict(\n",
    "            employment_income=employment_income,\n",
    "            spm_unit_net_income=spm_unit_net_income,\n",
    "            mtr=mtr,\n",
    "            adults=adults,\n",
    "            children=str(children),\n",
    "            scenario=\"Baseline\" if reform is None else \"ECPA\",\n",
    "        )\n",
    "    )"
   ]
  },
  {
   "cell_type": "code",
   "execution_count": 6,
   "metadata": {
    "execution": {
     "iopub.execute_input": "2022-06-06T13:05:37.866380Z",
     "iopub.status.busy": "2022-06-06T13:05:37.866380Z",
     "iopub.status.idle": "2022-06-06T13:05:38.523424Z",
     "shell.execute_reply": "2022-06-06T13:05:38.523424Z"
    }
   },
   "outputs": [
    {
     "ename": "KeyboardInterrupt",
     "evalue": "",
     "output_type": "error",
     "traceback": [
      "\u001b[1;31m---------------------------------------------------------------------------\u001b[0m",
      "\u001b[1;31mKeyboardInterrupt\u001b[0m                         Traceback (most recent call last)",
      "\u001b[1;32m~\\AppData\\Local\\Temp/ipykernel_23424/1728744268.py\u001b[0m in \u001b[0;36m<module>\u001b[1;34m\u001b[0m\n\u001b[0;32m      5\u001b[0m     \u001b[1;32mfor\u001b[0m \u001b[0mchildren\u001b[0m \u001b[1;32min\u001b[0m \u001b[0mrange\u001b[0m\u001b[1;33m(\u001b[0m\u001b[1;36m0\u001b[0m\u001b[1;33m,\u001b[0m \u001b[1;36m4\u001b[0m\u001b[1;33m)\u001b[0m\u001b[1;33m:\u001b[0m\u001b[1;33m\u001b[0m\u001b[1;33m\u001b[0m\u001b[0m\n\u001b[0;32m      6\u001b[0m         \u001b[1;32mfor\u001b[0m \u001b[0mreform\u001b[0m \u001b[1;32min\u001b[0m \u001b[1;33m[\u001b[0m\u001b[1;32mNone\u001b[0m\u001b[1;33m,\u001b[0m \u001b[0madd_ecpa\u001b[0m\u001b[1;33m]\u001b[0m\u001b[1;33m:\u001b[0m\u001b[1;33m\u001b[0m\u001b[1;33m\u001b[0m\u001b[0m\n\u001b[1;32m----> 7\u001b[1;33m             \u001b[0ml\u001b[0m\u001b[1;33m.\u001b[0m\u001b[0mappend\u001b[0m\u001b[1;33m(\u001b[0m\u001b[0mmake_tax\u001b[0m\u001b[1;33m(\u001b[0m\u001b[0madults\u001b[0m\u001b[1;33m,\u001b[0m \u001b[0mchildren\u001b[0m\u001b[1;33m,\u001b[0m \u001b[0mreform\u001b[0m\u001b[1;33m)\u001b[0m\u001b[1;33m)\u001b[0m\u001b[1;33m\u001b[0m\u001b[1;33m\u001b[0m\u001b[0m\n\u001b[0m\u001b[0;32m      8\u001b[0m \u001b[1;33m\u001b[0m\u001b[0m\n\u001b[0;32m      9\u001b[0m \u001b[0mdf\u001b[0m \u001b[1;33m=\u001b[0m \u001b[0mpd\u001b[0m\u001b[1;33m.\u001b[0m\u001b[0mconcat\u001b[0m\u001b[1;33m(\u001b[0m\u001b[0ml\u001b[0m\u001b[1;33m)\u001b[0m\u001b[1;33m\u001b[0m\u001b[1;33m\u001b[0m\u001b[0m\n",
      "\u001b[1;32m~\\AppData\\Local\\Temp/ipykernel_23424/457850724.py\u001b[0m in \u001b[0;36mmake_tax\u001b[1;34m(adults, children, reform)\u001b[0m\n\u001b[0;32m      1\u001b[0m \u001b[1;32mdef\u001b[0m \u001b[0mmake_tax\u001b[0m\u001b[1;33m(\u001b[0m\u001b[0madults\u001b[0m\u001b[1;33m,\u001b[0m \u001b[0mchildren\u001b[0m\u001b[1;33m,\u001b[0m \u001b[0mreform\u001b[0m\u001b[1;33m)\u001b[0m\u001b[1;33m:\u001b[0m\u001b[1;33m\u001b[0m\u001b[1;33m\u001b[0m\u001b[0m\n\u001b[0;32m      2\u001b[0m     \u001b[1;32mif\u001b[0m \u001b[0mreform\u001b[0m \u001b[1;32mis\u001b[0m \u001b[1;32mNone\u001b[0m\u001b[1;33m:\u001b[0m\u001b[1;33m\u001b[0m\u001b[1;33m\u001b[0m\u001b[0m\n\u001b[1;32m----> 3\u001b[1;33m         \u001b[0msim\u001b[0m \u001b[1;33m=\u001b[0m \u001b[0mIndividualSim\u001b[0m\u001b[1;33m(\u001b[0m\u001b[0myear\u001b[0m\u001b[1;33m=\u001b[0m\u001b[1;36m2022\u001b[0m\u001b[1;33m)\u001b[0m\u001b[1;33m\u001b[0m\u001b[1;33m\u001b[0m\u001b[0m\n\u001b[0m\u001b[0;32m      4\u001b[0m     \u001b[1;32melse\u001b[0m\u001b[1;33m:\u001b[0m\u001b[1;33m\u001b[0m\u001b[1;33m\u001b[0m\u001b[0m\n\u001b[0;32m      5\u001b[0m         \u001b[0msim\u001b[0m \u001b[1;33m=\u001b[0m \u001b[0mIndividualSim\u001b[0m\u001b[1;33m(\u001b[0m\u001b[0mreform\u001b[0m\u001b[1;33m,\u001b[0m \u001b[0myear\u001b[0m\u001b[1;33m=\u001b[0m\u001b[1;36m2022\u001b[0m\u001b[1;33m)\u001b[0m\u001b[1;33m\u001b[0m\u001b[1;33m\u001b[0m\u001b[0m\n",
      "\u001b[1;32mc:\\Users\\yvvij\\anaconda3\\envs\\poliengvenv\\lib\\site-packages\\openfisca_tools\\hypothetical.py\u001b[0m in \u001b[0;36m__init__\u001b[1;34m(self, reform, year)\u001b[0m\n\u001b[0;32m     36\u001b[0m         \u001b[0mself\u001b[0m\u001b[1;33m.\u001b[0m\u001b[0myear\u001b[0m \u001b[1;33m=\u001b[0m \u001b[0myear\u001b[0m\u001b[1;33m\u001b[0m\u001b[1;33m\u001b[0m\u001b[0m\n\u001b[0;32m     37\u001b[0m         \u001b[0mself\u001b[0m\u001b[1;33m.\u001b[0m\u001b[0mreform\u001b[0m \u001b[1;33m=\u001b[0m \u001b[0mreform\u001b[0m\u001b[1;33m\u001b[0m\u001b[1;33m\u001b[0m\u001b[0m\n\u001b[1;32m---> 38\u001b[1;33m         \u001b[0mself\u001b[0m\u001b[1;33m.\u001b[0m\u001b[0msystem\u001b[0m \u001b[1;33m=\u001b[0m \u001b[0mself\u001b[0m\u001b[1;33m.\u001b[0m\u001b[0mtax_benefit_system\u001b[0m\u001b[1;33m(\u001b[0m\u001b[1;33m)\u001b[0m\u001b[1;33m\u001b[0m\u001b[1;33m\u001b[0m\u001b[0m\n\u001b[0m\u001b[0;32m     39\u001b[0m         \u001b[0mself\u001b[0m\u001b[1;33m.\u001b[0m\u001b[0msim_builder\u001b[0m \u001b[1;33m=\u001b[0m \u001b[0mSimulationBuilder\u001b[0m\u001b[1;33m(\u001b[0m\u001b[1;33m)\u001b[0m\u001b[1;33m\u001b[0m\u001b[1;33m\u001b[0m\u001b[0m\n\u001b[0;32m     40\u001b[0m         \u001b[0mself\u001b[0m\u001b[1;33m.\u001b[0m\u001b[0mparametric_vary\u001b[0m \u001b[1;33m=\u001b[0m \u001b[1;32mFalse\u001b[0m\u001b[1;33m\u001b[0m\u001b[1;33m\u001b[0m\u001b[0m\n",
      "\u001b[1;32mc:\\Users\\yvvij\\anaconda3\\envs\\poliengvenv\\lib\\site-packages\\openfisca_us\\system.py\u001b[0m in \u001b[0;36m__init__\u001b[1;34m(self)\u001b[0m\n\u001b[0;32m     29\u001b[0m         \u001b[1;31m# We add to our tax and benefit system all the variables\u001b[0m\u001b[1;33m\u001b[0m\u001b[1;33m\u001b[0m\u001b[1;33m\u001b[0m\u001b[0m\n\u001b[0;32m     30\u001b[0m         self.add_variables_from_directory(\n\u001b[1;32m---> 31\u001b[1;33m             \u001b[0mos\u001b[0m\u001b[1;33m.\u001b[0m\u001b[0mpath\u001b[0m\u001b[1;33m.\u001b[0m\u001b[0mjoin\u001b[0m\u001b[1;33m(\u001b[0m\u001b[0mCOUNTRY_DIR\u001b[0m\u001b[1;33m,\u001b[0m \u001b[1;34m\"variables\"\u001b[0m\u001b[1;33m)\u001b[0m\u001b[1;33m\u001b[0m\u001b[1;33m\u001b[0m\u001b[0m\n\u001b[0m\u001b[0;32m     32\u001b[0m         )\n\u001b[0;32m     33\u001b[0m \u001b[1;33m\u001b[0m\u001b[0m\n",
      "\u001b[1;32mc:\\Users\\yvvij\\anaconda3\\envs\\poliengvenv\\lib\\site-packages\\openfisca_core\\taxbenefitsystems\\tax_benefit_system.py\u001b[0m in \u001b[0;36madd_variables_from_directory\u001b[1;34m(self, directory)\u001b[0m\n\u001b[0;32m    215\u001b[0m         \u001b[0msubdirectories\u001b[0m \u001b[1;33m=\u001b[0m \u001b[0mglob\u001b[0m\u001b[1;33m.\u001b[0m\u001b[0mglob\u001b[0m\u001b[1;33m(\u001b[0m\u001b[0mos\u001b[0m\u001b[1;33m.\u001b[0m\u001b[0mpath\u001b[0m\u001b[1;33m.\u001b[0m\u001b[0mjoin\u001b[0m\u001b[1;33m(\u001b[0m\u001b[0mdirectory\u001b[0m\u001b[1;33m,\u001b[0m \u001b[1;34m\"*/\"\u001b[0m\u001b[1;33m)\u001b[0m\u001b[1;33m)\u001b[0m\u001b[1;33m\u001b[0m\u001b[1;33m\u001b[0m\u001b[0m\n\u001b[0;32m    216\u001b[0m         \u001b[1;32mfor\u001b[0m \u001b[0msubdirectory\u001b[0m \u001b[1;32min\u001b[0m \u001b[0msubdirectories\u001b[0m\u001b[1;33m:\u001b[0m\u001b[1;33m\u001b[0m\u001b[1;33m\u001b[0m\u001b[0m\n\u001b[1;32m--> 217\u001b[1;33m             \u001b[0mself\u001b[0m\u001b[1;33m.\u001b[0m\u001b[0madd_variables_from_directory\u001b[0m\u001b[1;33m(\u001b[0m\u001b[0msubdirectory\u001b[0m\u001b[1;33m)\u001b[0m\u001b[1;33m\u001b[0m\u001b[1;33m\u001b[0m\u001b[0m\n\u001b[0m\u001b[0;32m    218\u001b[0m \u001b[1;33m\u001b[0m\u001b[0m\n\u001b[0;32m    219\u001b[0m     \u001b[1;32mdef\u001b[0m \u001b[0madd_variables\u001b[0m\u001b[1;33m(\u001b[0m\u001b[0mself\u001b[0m\u001b[1;33m,\u001b[0m \u001b[1;33m*\u001b[0m\u001b[0mvariables\u001b[0m\u001b[1;33m)\u001b[0m\u001b[1;33m:\u001b[0m\u001b[1;33m\u001b[0m\u001b[1;33m\u001b[0m\u001b[0m\n",
      "\u001b[1;32mc:\\Users\\yvvij\\anaconda3\\envs\\poliengvenv\\lib\\site-packages\\openfisca_core\\taxbenefitsystems\\tax_benefit_system.py\u001b[0m in \u001b[0;36madd_variables_from_directory\u001b[1;34m(self, directory)\u001b[0m\n\u001b[0;32m    215\u001b[0m         \u001b[0msubdirectories\u001b[0m \u001b[1;33m=\u001b[0m \u001b[0mglob\u001b[0m\u001b[1;33m.\u001b[0m\u001b[0mglob\u001b[0m\u001b[1;33m(\u001b[0m\u001b[0mos\u001b[0m\u001b[1;33m.\u001b[0m\u001b[0mpath\u001b[0m\u001b[1;33m.\u001b[0m\u001b[0mjoin\u001b[0m\u001b[1;33m(\u001b[0m\u001b[0mdirectory\u001b[0m\u001b[1;33m,\u001b[0m \u001b[1;34m\"*/\"\u001b[0m\u001b[1;33m)\u001b[0m\u001b[1;33m)\u001b[0m\u001b[1;33m\u001b[0m\u001b[1;33m\u001b[0m\u001b[0m\n\u001b[0;32m    216\u001b[0m         \u001b[1;32mfor\u001b[0m \u001b[0msubdirectory\u001b[0m \u001b[1;32min\u001b[0m \u001b[0msubdirectories\u001b[0m\u001b[1;33m:\u001b[0m\u001b[1;33m\u001b[0m\u001b[1;33m\u001b[0m\u001b[0m\n\u001b[1;32m--> 217\u001b[1;33m             \u001b[0mself\u001b[0m\u001b[1;33m.\u001b[0m\u001b[0madd_variables_from_directory\u001b[0m\u001b[1;33m(\u001b[0m\u001b[0msubdirectory\u001b[0m\u001b[1;33m)\u001b[0m\u001b[1;33m\u001b[0m\u001b[1;33m\u001b[0m\u001b[0m\n\u001b[0m\u001b[0;32m    218\u001b[0m \u001b[1;33m\u001b[0m\u001b[0m\n\u001b[0;32m    219\u001b[0m     \u001b[1;32mdef\u001b[0m \u001b[0madd_variables\u001b[0m\u001b[1;33m(\u001b[0m\u001b[0mself\u001b[0m\u001b[1;33m,\u001b[0m \u001b[1;33m*\u001b[0m\u001b[0mvariables\u001b[0m\u001b[1;33m)\u001b[0m\u001b[1;33m:\u001b[0m\u001b[1;33m\u001b[0m\u001b[1;33m\u001b[0m\u001b[0m\n",
      "\u001b[1;32mc:\\Users\\yvvij\\anaconda3\\envs\\poliengvenv\\lib\\site-packages\\openfisca_core\\taxbenefitsystems\\tax_benefit_system.py\u001b[0m in \u001b[0;36madd_variables_from_directory\u001b[1;34m(self, directory)\u001b[0m\n\u001b[0;32m    215\u001b[0m         \u001b[0msubdirectories\u001b[0m \u001b[1;33m=\u001b[0m \u001b[0mglob\u001b[0m\u001b[1;33m.\u001b[0m\u001b[0mglob\u001b[0m\u001b[1;33m(\u001b[0m\u001b[0mos\u001b[0m\u001b[1;33m.\u001b[0m\u001b[0mpath\u001b[0m\u001b[1;33m.\u001b[0m\u001b[0mjoin\u001b[0m\u001b[1;33m(\u001b[0m\u001b[0mdirectory\u001b[0m\u001b[1;33m,\u001b[0m \u001b[1;34m\"*/\"\u001b[0m\u001b[1;33m)\u001b[0m\u001b[1;33m)\u001b[0m\u001b[1;33m\u001b[0m\u001b[1;33m\u001b[0m\u001b[0m\n\u001b[0;32m    216\u001b[0m         \u001b[1;32mfor\u001b[0m \u001b[0msubdirectory\u001b[0m \u001b[1;32min\u001b[0m \u001b[0msubdirectories\u001b[0m\u001b[1;33m:\u001b[0m\u001b[1;33m\u001b[0m\u001b[1;33m\u001b[0m\u001b[0m\n\u001b[1;32m--> 217\u001b[1;33m             \u001b[0mself\u001b[0m\u001b[1;33m.\u001b[0m\u001b[0madd_variables_from_directory\u001b[0m\u001b[1;33m(\u001b[0m\u001b[0msubdirectory\u001b[0m\u001b[1;33m)\u001b[0m\u001b[1;33m\u001b[0m\u001b[1;33m\u001b[0m\u001b[0m\n\u001b[0m\u001b[0;32m    218\u001b[0m \u001b[1;33m\u001b[0m\u001b[0m\n\u001b[0;32m    219\u001b[0m     \u001b[1;32mdef\u001b[0m \u001b[0madd_variables\u001b[0m\u001b[1;33m(\u001b[0m\u001b[0mself\u001b[0m\u001b[1;33m,\u001b[0m \u001b[1;33m*\u001b[0m\u001b[0mvariables\u001b[0m\u001b[1;33m)\u001b[0m\u001b[1;33m:\u001b[0m\u001b[1;33m\u001b[0m\u001b[1;33m\u001b[0m\u001b[0m\n",
      "\u001b[1;32mc:\\Users\\yvvij\\anaconda3\\envs\\poliengvenv\\lib\\site-packages\\openfisca_core\\taxbenefitsystems\\tax_benefit_system.py\u001b[0m in \u001b[0;36madd_variables_from_directory\u001b[1;34m(self, directory)\u001b[0m\n\u001b[0;32m    212\u001b[0m         \u001b[0mpy_files\u001b[0m \u001b[1;33m=\u001b[0m \u001b[0mglob\u001b[0m\u001b[1;33m.\u001b[0m\u001b[0mglob\u001b[0m\u001b[1;33m(\u001b[0m\u001b[0mos\u001b[0m\u001b[1;33m.\u001b[0m\u001b[0mpath\u001b[0m\u001b[1;33m.\u001b[0m\u001b[0mjoin\u001b[0m\u001b[1;33m(\u001b[0m\u001b[0mdirectory\u001b[0m\u001b[1;33m,\u001b[0m \u001b[1;34m\"*.py\"\u001b[0m\u001b[1;33m)\u001b[0m\u001b[1;33m)\u001b[0m\u001b[1;33m\u001b[0m\u001b[1;33m\u001b[0m\u001b[0m\n\u001b[0;32m    213\u001b[0m         \u001b[1;32mfor\u001b[0m \u001b[0mpy_file\u001b[0m \u001b[1;32min\u001b[0m \u001b[0mpy_files\u001b[0m\u001b[1;33m:\u001b[0m\u001b[1;33m\u001b[0m\u001b[1;33m\u001b[0m\u001b[0m\n\u001b[1;32m--> 214\u001b[1;33m             \u001b[0mself\u001b[0m\u001b[1;33m.\u001b[0m\u001b[0madd_variables_from_file\u001b[0m\u001b[1;33m(\u001b[0m\u001b[0mpy_file\u001b[0m\u001b[1;33m)\u001b[0m\u001b[1;33m\u001b[0m\u001b[1;33m\u001b[0m\u001b[0m\n\u001b[0m\u001b[0;32m    215\u001b[0m         \u001b[0msubdirectories\u001b[0m \u001b[1;33m=\u001b[0m \u001b[0mglob\u001b[0m\u001b[1;33m.\u001b[0m\u001b[0mglob\u001b[0m\u001b[1;33m(\u001b[0m\u001b[0mos\u001b[0m\u001b[1;33m.\u001b[0m\u001b[0mpath\u001b[0m\u001b[1;33m.\u001b[0m\u001b[0mjoin\u001b[0m\u001b[1;33m(\u001b[0m\u001b[0mdirectory\u001b[0m\u001b[1;33m,\u001b[0m \u001b[1;34m\"*/\"\u001b[0m\u001b[1;33m)\u001b[0m\u001b[1;33m)\u001b[0m\u001b[1;33m\u001b[0m\u001b[1;33m\u001b[0m\u001b[0m\n\u001b[0;32m    216\u001b[0m         \u001b[1;32mfor\u001b[0m \u001b[0msubdirectory\u001b[0m \u001b[1;32min\u001b[0m \u001b[0msubdirectories\u001b[0m\u001b[1;33m:\u001b[0m\u001b[1;33m\u001b[0m\u001b[1;33m\u001b[0m\u001b[0m\n",
      "\u001b[1;32mc:\\Users\\yvvij\\anaconda3\\envs\\poliengvenv\\lib\\site-packages\\openfisca_core\\taxbenefitsystems\\tax_benefit_system.py\u001b[0m in \u001b[0;36madd_variables_from_file\u001b[1;34m(self, file_path)\u001b[0m\n\u001b[0;32m    193\u001b[0m             \u001b[0mmodule_directory\u001b[0m \u001b[1;33m=\u001b[0m \u001b[0mos\u001b[0m\u001b[1;33m.\u001b[0m\u001b[0mpath\u001b[0m\u001b[1;33m.\u001b[0m\u001b[0mdirname\u001b[0m\u001b[1;33m(\u001b[0m\u001b[0mfile_path\u001b[0m\u001b[1;33m)\u001b[0m\u001b[1;33m\u001b[0m\u001b[1;33m\u001b[0m\u001b[0m\n\u001b[0;32m    194\u001b[0m             \u001b[1;32mtry\u001b[0m\u001b[1;33m:\u001b[0m\u001b[1;33m\u001b[0m\u001b[1;33m\u001b[0m\u001b[0m\n\u001b[1;32m--> 195\u001b[1;33m                 \u001b[0mmodule\u001b[0m \u001b[1;33m=\u001b[0m \u001b[0mload_module\u001b[0m\u001b[1;33m(\u001b[0m\u001b[0mmodule_name\u001b[0m\u001b[1;33m,\u001b[0m \u001b[1;33m*\u001b[0m\u001b[0mfind_module\u001b[0m\u001b[1;33m(\u001b[0m\u001b[0mfile_name\u001b[0m\u001b[1;33m,\u001b[0m \u001b[1;33m[\u001b[0m\u001b[0mmodule_directory\u001b[0m\u001b[1;33m]\u001b[0m\u001b[1;33m)\u001b[0m\u001b[1;33m)\u001b[0m\u001b[1;33m\u001b[0m\u001b[1;33m\u001b[0m\u001b[0m\n\u001b[0m\u001b[0;32m    196\u001b[0m             \u001b[1;32mexcept\u001b[0m \u001b[0mNameError\u001b[0m \u001b[1;32mas\u001b[0m \u001b[0me\u001b[0m\u001b[1;33m:\u001b[0m\u001b[1;33m\u001b[0m\u001b[1;33m\u001b[0m\u001b[0m\n\u001b[0;32m    197\u001b[0m                 \u001b[0mlogging\u001b[0m\u001b[1;33m.\u001b[0m\u001b[0merror\u001b[0m\u001b[1;33m(\u001b[0m\u001b[0mstr\u001b[0m\u001b[1;33m(\u001b[0m\u001b[0me\u001b[0m\u001b[1;33m)\u001b[0m \u001b[1;33m+\u001b[0m \u001b[1;34m\": if this code used to work, this error might be due to a major change in OpenFisca-Core. Checkout the changelog to learn more: <https://github.com/openfisca/openfisca-core/blob/master/CHANGELOG.md>\"\u001b[0m\u001b[1;33m)\u001b[0m\u001b[1;33m\u001b[0m\u001b[1;33m\u001b[0m\u001b[0m\n",
      "\u001b[1;32mc:\\Users\\yvvij\\anaconda3\\envs\\poliengvenv\\lib\\imp.py\u001b[0m in \u001b[0;36mfind_module\u001b[1;34m(name, path)\u001b[0m\n\u001b[0;32m    298\u001b[0m     \u001b[0mencoding\u001b[0m \u001b[1;33m=\u001b[0m \u001b[1;32mNone\u001b[0m\u001b[1;33m\u001b[0m\u001b[1;33m\u001b[0m\u001b[0m\n\u001b[0;32m    299\u001b[0m     \u001b[1;32mif\u001b[0m \u001b[1;34m'b'\u001b[0m \u001b[1;32mnot\u001b[0m \u001b[1;32min\u001b[0m \u001b[0mmode\u001b[0m\u001b[1;33m:\u001b[0m\u001b[1;33m\u001b[0m\u001b[1;33m\u001b[0m\u001b[0m\n\u001b[1;32m--> 300\u001b[1;33m         \u001b[1;32mwith\u001b[0m \u001b[0mopen\u001b[0m\u001b[1;33m(\u001b[0m\u001b[0mfile_path\u001b[0m\u001b[1;33m,\u001b[0m \u001b[1;34m'rb'\u001b[0m\u001b[1;33m)\u001b[0m \u001b[1;32mas\u001b[0m \u001b[0mfile\u001b[0m\u001b[1;33m:\u001b[0m\u001b[1;33m\u001b[0m\u001b[1;33m\u001b[0m\u001b[0m\n\u001b[0m\u001b[0;32m    301\u001b[0m             \u001b[0mencoding\u001b[0m \u001b[1;33m=\u001b[0m \u001b[0mtokenize\u001b[0m\u001b[1;33m.\u001b[0m\u001b[0mdetect_encoding\u001b[0m\u001b[1;33m(\u001b[0m\u001b[0mfile\u001b[0m\u001b[1;33m.\u001b[0m\u001b[0mreadline\u001b[0m\u001b[1;33m)\u001b[0m\u001b[1;33m[\u001b[0m\u001b[1;36m0\u001b[0m\u001b[1;33m]\u001b[0m\u001b[1;33m\u001b[0m\u001b[1;33m\u001b[0m\u001b[0m\n\u001b[0;32m    302\u001b[0m     \u001b[0mfile\u001b[0m \u001b[1;33m=\u001b[0m \u001b[0mopen\u001b[0m\u001b[1;33m(\u001b[0m\u001b[0mfile_path\u001b[0m\u001b[1;33m,\u001b[0m \u001b[0mmode\u001b[0m\u001b[1;33m,\u001b[0m \u001b[0mencoding\u001b[0m\u001b[1;33m=\u001b[0m\u001b[0mencoding\u001b[0m\u001b[1;33m)\u001b[0m\u001b[1;33m\u001b[0m\u001b[1;33m\u001b[0m\u001b[0m\n",
      "\u001b[1;31mKeyboardInterrupt\u001b[0m: "
     ]
    }
   ],
   "source": [
    "import pandas as pd\n",
    "\n",
    "l = []\n",
    "for adults in range(1, 3):\n",
    "    for children in range(0, 4):\n",
    "        for reform in [None, add_ecpa]:\n",
    "            l.append(make_tax(adults, children, reform))\n",
    "\n",
    "df = pd.concat(l)\n",
    "\n",
    "LABELS = dict(\n",
    "    employment_income=\"Employment income\",\n",
    "    spm_unit_net_income=\"Net income\",\n",
    "    mtr=\"Marginal tax rate\",\n",
    "    adults=\"Adults\",\n",
    "    children=\"Children\",\n",
    "    scenario=\"Scenario\"\n",
    ")\n",
    "df"
   ]
  },
  {
   "cell_type": "code",
   "execution_count": null,
   "metadata": {},
   "outputs": [],
   "source": [
    "wide = df.pivot_table(index=[\"adults\", \"children\", \"employment_income\"], columns=\"scenario\", values=[\"mtr\", \"spm_unit_net_income\"]).reset_index()\n",
    "\n",
    "wide[\"diff\"] = wide[\"spm_unit_net_income\"][\"ECPA\"] - wide[\"spm_unit_net_income\"][\"Baseline\"]\n",
    "wide[\"mtr_diff\"] = wide[\"mtr\"][\"ECPA\"] - wide[\"mtr\"][\"Baseline\"]\n",
    "wide"
   ]
  },
  {
   "cell_type": "code",
   "execution_count": null,
   "metadata": {
    "execution": {
     "iopub.execute_input": "2022-06-06T13:05:38.527380Z",
     "iopub.status.busy": "2022-06-06T13:05:38.526380Z",
     "iopub.status.idle": "2022-06-06T13:05:39.305632Z",
     "shell.execute_reply": "2022-06-06T13:05:39.305632Z"
    }
   },
   "outputs": [],
   "source": [
    "import plotly.express as px\n",
    "\n",
    "from ubicenter import format_fig\n",
    "\n",
    "fig = px.line(\n",
    "    wide,\n",
    "    \"employment_income\",\n",
    "    \"diff\",\n",
    "    color=\"children\",\n",
    "    animation_frame=\"adults\",\n",
    "    labels=LABELS,\n",
    "    title=\"Difference between Baseline vs. ECPA\",\n",
    ")\n",
    "\n",
    "fig"
   ]
  },
  {
   "cell_type": "code",
   "execution_count": null,
   "metadata": {
    "execution": {
     "iopub.execute_input": "2022-06-06T13:05:39.315632Z",
     "iopub.status.busy": "2022-06-06T13:05:39.312631Z",
     "iopub.status.idle": "2022-06-06T13:05:39.374635Z",
     "shell.execute_reply": "2022-06-06T13:05:39.373635Z"
    }
   },
   "outputs": [],
   "source": [
    "px.line(df, x=\"employment_income\", y=\"diff\")"
   ]
  },
  {
   "cell_type": "code",
   "execution_count": null,
   "metadata": {
    "execution": {
     "iopub.execute_input": "2022-06-06T13:05:39.394632Z",
     "iopub.status.busy": "2022-06-06T13:05:39.393632Z",
     "iopub.status.idle": "2022-06-06T13:05:39.467632Z",
     "shell.execute_reply": "2022-06-06T13:05:39.466632Z"
    }
   },
   "outputs": [],
   "source": [
    "fig = px.line(\n",
    "    df,\n",
    "    x=\"employment_income\",\n",
    "    y=[\"mtr_baseline\", \"mtr_ecpa\"]\n",
    ")\n",
    "fig.update_layout(\n",
    "    xaxis_tickformat=\"$,\",\n",
    "    yaxis_tickformat=\".1%\",\n",
    "    yaxis_range=[-1, 1],\n",
    ")\n",
    "fig.show()"
   ]
  },
  {
   "cell_type": "code",
   "execution_count": null,
   "metadata": {
    "execution": {
     "iopub.execute_input": "2022-06-06T13:05:39.477635Z",
     "iopub.status.busy": "2022-06-06T13:05:39.473631Z",
     "iopub.status.idle": "2022-06-06T13:05:39.533636Z",
     "shell.execute_reply": "2022-06-06T13:05:39.531636Z"
    }
   },
   "outputs": [],
   "source": [
    "px.line(df, x=\"employment_income\", y=\"mtr_diff\")"
   ]
  },
  {
   "cell_type": "markdown",
   "metadata": {},
   "source": [
    "## Microsimulation"
   ]
  },
  {
   "cell_type": "code",
   "execution_count": null,
   "metadata": {},
   "outputs": [],
   "source": [
    "from policyengine.countries import US\n",
    "\n",
    "us = US()\n",
    "\n",
    "mb, mr = us._get_microsimulations(add_ecpa)"
   ]
  },
  {
   "cell_type": "code",
   "execution_count": null,
   "metadata": {},
   "outputs": [],
   "source": [
    "res = us.population_reform(add_ecpa)"
   ]
  },
  {
   "cell_type": "code",
   "execution_count": null,
   "metadata": {},
   "outputs": [],
   "source": [
    "res.keys()"
   ]
  },
  {
   "cell_type": "code",
   "execution_count": null,
   "metadata": {},
   "outputs": [],
   "source": [
    "import plotly.graph_objects as go\n",
    "\n",
    "go.Figure(data=res[\"rel_income_decile_chart\"][\"data\"], layout=res[\"rel_income_decile_chart\"][\"layout\"])"
   ]
  },
  {
   "cell_type": "code",
   "execution_count": null,
   "metadata": {},
   "outputs": [],
   "source": [
    "go.Figure(data=res[\"intra_income_decile_chart\"][\"data\"], layout=res[\"intra_income_decile_chart\"][\"layout\"])"
   ]
  },
  {
   "cell_type": "code",
   "execution_count": null,
   "metadata": {},
   "outputs": [],
   "source": [
    "go.Figure(data=res[\"poverty_chart\"][\"data\"], layout=res[\"poverty_chart\"][\"layout\"])"
   ]
  },
  {
   "cell_type": "code",
   "execution_count": null,
   "metadata": {},
   "outputs": [],
   "source": [
    "in_poverty = mr.calc(\"spm_unit_is_in_spm_poverty\", map_to=\"person\")\n",
    "child = mb.calc(\"is_child\")\n",
    "child_poverty = (in_poverty & child).sum() / child.sum()"
   ]
  },
  {
   "cell_type": "code",
   "execution_count": null,
   "metadata": {},
   "outputs": [],
   "source": [
    "in_poverty"
   ]
  },
  {
   "cell_type": "code",
   "execution_count": null,
   "metadata": {},
   "outputs": [],
   "source": []
  }
 ],
 "metadata": {
  "interpreter": {
   "hash": "4cf6383f3e9dd129f990f4193ec215190a2fe34a62260e36ae06145e06376ac7"
  },
  "kernelspec": {
   "display_name": "Python 3.7.11 ('poliengvenv')",
   "language": "python",
   "name": "python3"
  },
  "language_info": {
   "codemirror_mode": {
    "name": "ipython",
    "version": 3
   },
   "file_extension": ".py",
   "mimetype": "text/x-python",
   "name": "python",
   "nbconvert_exporter": "python",
   "pygments_lexer": "ipython3",
   "version": "3.7.11"
  },
  "vscode": {
   "interpreter": {
    "hash": "4cf6383f3e9dd129f990f4193ec215190a2fe34a62260e36ae06145e06376ac7"
   }
  }
 },
 "nbformat": 4,
 "nbformat_minor": 4
}
